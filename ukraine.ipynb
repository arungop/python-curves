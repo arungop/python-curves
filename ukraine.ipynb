{
 "cells": [
  {
   "cell_type": "markdown",
   "id": "bf882291",
   "metadata": {},
   "source": [
    "# Using satellite data indicators to monitor the crisis in Ukraine"
   ]
  },
  {
   "cell_type": "markdown",
   "id": "6eb192ed",
   "metadata": {},
   "source": [
    "  \n",
    " Ukraine crisis starts on February 20, 2022. In this work, dates are between february and april (date of writing this post) of 2021 & 2022.\n",
    "\n",
    "\n",
    "## NO2 concentration\n",
    "\n",
    "Nitrogen oxides (NO2 and NO) are important trace gases in the Earth’s atmosphere, present in both the troposphere and the stratosphere. They enter the atmosphere as a result of anthropogenic activities (notably fossil fuel combustion and biomass burning) and natural processes (wildfires, lightning, and microbiological processes in soils). Here, NO2 is used to represent concentrations of collective nitrogen oxides because during daytime, i.e. in the presence of sunlight, a photochemical cycle involving ozone (O3) converts NO into NO2 and vice versa on a timescale of minutes.\n",
    "\n",
    "### Dataset provider : European Union/ESA/Copernicus \n",
    "\n",
    "- Sentinel-5P NRTI NO2: Near Real-Time Nitrogen Dioxide"
   ]
  },
  {
   "cell_type": "code",
   "execution_count": 161,
   "id": "05e0b8bd",
   "metadata": {},
   "outputs": [],
   "source": [
    "import ee\n",
    "import geemap\n",
    "import os\n",
    "\n",
    "Map = geemap.Map()\n",
    "\n",
    "# get the layer with all countries\n",
    "country = ee.FeatureCollection(\"USDOS/LSIB_SIMPLE/2017\").filter(ee.Filter.eq(\"country_na\", \"Ukraine\"))\n",
    "\n",
    "Map.addLayer(country)\n",
    "Map.centerObject(country, 5)\n",
    "\n",
    "# Importing NO2 values\n",
    "\n",
    "no2ic = ee.ImageCollection('COPERNICUS/S5P/NRTI/L3_NO2').select('NO2_column_number_density')"
   ]
  },
  {
   "cell_type": "markdown",
   "id": "d16ee121",
   "metadata": {},
   "source": [
    "\n",
    "Sentinel-5 Precursor is a satellite launched on 13 October 2017 by the European Space Agency to monitor air pollution."
   ]
  },
  {
   "cell_type": "code",
   "execution_count": 166,
   "id": "058fe564",
   "metadata": {},
   "outputs": [],
   "source": [
    "# Filtering and averaging NO2 values for feb, apr months of 2021 & 2022\n",
    "\n",
    "filterMonth = ee.Filter.calendarRange(2, 4, 'month')\n",
    "no2 = no2ic.filter(filterMonth)\n",
    "filter21 = ee.Filter.calendarRange(2021, 2021, 'year')\n",
    "filter22 = ee.Filter.calendarRange(2022, 2022, 'year')\n",
    "\n",
    "no2pre  = no2.filter(filter21).mean().multiply(1e6).clip(country)\n",
    "no2post = no2.filter(filter22).mean().multiply(1e6).clip(country)\n",
    "\n",
    "# Defining visualisation parameter\n",
    "\n",
    "vizParams = {\n",
    "  'min': 0,\n",
    "  'max': 200,\n",
    "  'palette': ['yellow','green', 'purple','red']\n",
    "}\n"
   ]
  },
  {
   "cell_type": "code",
   "execution_count": 167,
   "id": "ae303795",
   "metadata": {},
   "outputs": [],
   "source": [
    "# Setting left and right layers for split view\n",
    "\n",
    "left_layer = geemap.ee_tile_layer(no2pre, vizParams, 'no2pre')\n",
    "right_layer = geemap.ee_tile_layer(no2post, vizParams, 'no2post')"
   ]
  },
  {
   "cell_type": "markdown",
   "id": "bf6fe95d",
   "metadata": {},
   "source": [
    "Left layer and right layer represent mean concentration of NO2 in pre-war(2021) and war (2022) periods respectively. A significant cdecline in concentation can be detected in Kyiv during war time. While eastern region is barely showing any variation."
   ]
  },
  {
   "cell_type": "code",
   "execution_count": 168,
   "id": "b93bc59a",
   "metadata": {
    "scrolled": true
   },
   "outputs": [
    {
     "data": {
      "application/vnd.jupyter.widget-view+json": {
       "model_id": "92efc56f54e845e38e0cd9989845bf93",
       "version_major": 2,
       "version_minor": 0
      },
      "text/plain": [
       "Map(bottom=3112.0, center=[49.04444769364695, 31.471702064055535], controls=(ZoomControl(options=['position', …"
      ]
     },
     "metadata": {},
     "output_type": "display_data"
    }
   ],
   "source": [
    "# Map view\n",
    "Map.split_map(left_layer, right_layer)\n",
    "Map"
   ]
  },
  {
   "cell_type": "markdown",
   "id": "5a884435",
   "metadata": {},
   "source": [
    "## CO concentration\n",
    "\n",
    "Carbon monoxide (CO) is an important atmospheric trace gas for understanding tropospheric chemistry. In certain urban areas, it is a major atmospheric pollutant. Main sources of CO are combustion of fossil fuels, biomass burning, and atmospheric oxidation of methane and other hydrocarbons. Whereas fossil fuel combustion is the main source of CO at northern mid-latitudes, the oxidation of isoprene and biomass burning play an important role in the tropics.\n",
    "\n",
    "### Data provider : European Union/ESA/Copernicus\n",
    "\n",
    "- Sentinel-5P NRTI CO: Near Real-Time Carbon Monoxide\n"
   ]
  },
  {
   "cell_type": "code",
   "execution_count": 169,
   "id": "1bf5ae9b",
   "metadata": {
    "scrolled": true
   },
   "outputs": [
    {
     "data": {
      "application/vnd.jupyter.widget-view+json": {
       "model_id": "f8c1cdccf61f435a87760fcfa17b7821",
       "version_major": 2,
       "version_minor": 0
      },
      "text/plain": [
       "Map(center=[49.04444769364695, 31.471702064055535], controls=(ZoomControl(options=['position', 'zoom_in_text',…"
      ]
     },
     "metadata": {},
     "output_type": "display_data"
    }
   ],
   "source": [
    "# Selecing Ukraine as our center object\n",
    "\n",
    "Map = geemap.Map()\n",
    "\n",
    "Map.addLayer(country)\n",
    "Map.centerObject(country, 5)\n",
    "\n",
    "# Selecting datasets\n",
    "dataset = ee.ImageCollection('COPERNICUS/S5P/NRTI/L3_CO') \\\n",
    "                  .select('CO_column_number_density')\n",
    "\n",
    "# Filter dates\n",
    "CO22 = dataset.filter(ee.Filter.date('2022-02-20', '2022-04-12')).mean().clip(country)\n",
    "CO21 = dataset.filter(ee.Filter.date('2021-02-20', '2021-04-12')).mean().clip(country)\n",
    "\n",
    "# Visual palette\n",
    "COVis = {\n",
    "  'min': 0.0,\n",
    "  'max': 0.05,\n",
    "  'palette': ['blue', 'purple', 'cyan', 'green', 'yellow', 'red']\n",
    "}\n",
    "\n",
    "# Setting left and right layers for split view\n",
    "left_layer = geemap.ee_tile_layer(CO21, COVis, 'CO_pre')\n",
    "right_layer = geemap.ee_tile_layer(CO22, COVis, 'CO_post')\n",
    "\n",
    "# Map view\n",
    "Map.split_map(left_layer, right_layer)\n",
    "Map\n"
   ]
  },
  {
   "cell_type": "markdown",
   "id": "4c84c536",
   "metadata": {},
   "source": [
    "Left layer and right layer represent mean concentration of NO2 in pre-war(2021) and war (2022) periods respectively. There is a variation in overall concentration of Carbon Monoxide value throughout the country which can count as changein industrial productions and transportation. "
   ]
  }
 ],
 "metadata": {
  "kernelspec": {
   "display_name": "Python 3 (ipykernel)",
   "language": "python",
   "name": "python3"
  },
  "language_info": {
   "codemirror_mode": {
    "name": "ipython",
    "version": 3
   },
   "file_extension": ".py",
   "mimetype": "text/x-python",
   "name": "python",
   "nbconvert_exporter": "python",
   "pygments_lexer": "ipython3",
   "version": "3.8.10"
  }
 },
 "nbformat": 4,
 "nbformat_minor": 5
}
