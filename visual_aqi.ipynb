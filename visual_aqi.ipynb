{
 "cells": [
  {
   "cell_type": "code",
   "execution_count": null,
   "id": "dcf14dfb-90a5-4382-a891-ca1c61f5dab9",
   "metadata": {},
   "outputs": [],
   "source": [
    "import pandas as pd \n",
    "import numpy as np\n",
    "import warnings\n",
    "warnings.filterwarnings('ignore')\n",
    "from datetime import datetime, date, timedelta"
   ]
  },
  {
   "cell_type": "code",
   "execution_count": null,
   "id": "bcce8bc0-0f7f-4b55-8193-c14df984a8d6",
   "metadata": {},
   "outputs": [],
   "source": [
    "import bar_chart_race as bcr"
   ]
  },
  {
   "cell_type": "code",
   "execution_count": null,
   "id": "fe6c2c79-31c2-4e23-bfcb-207cf032eb76",
   "metadata": {},
   "outputs": [],
   "source": [
    "aqi = \"https://raw.githubusercontent.com/Open-Oven/AQI_scraper/main/AQI.csv\"\n",
    "df = pd.read_csv(aqi)\n",
    "df['Date']= pd.to_datetime(df['Date'], format='%d/%m/%Y')\n"
   ]
  },
  {
   "cell_type": "code",
   "execution_count": null,
   "id": "b208f5e2-6c46-4026-8a4f-abe97f64ad88",
   "metadata": {},
   "outputs": [],
   "source": [
    "df.head()"
   ]
  },
  {
   "cell_type": "code",
   "execution_count": null,
   "id": "37bea167-fe5f-4262-9a5a-a51030ba27a3",
   "metadata": {},
   "outputs": [],
   "source": [
    "df.City.unique()"
   ]
  },
  {
   "cell_type": "code",
   "execution_count": null,
   "id": "db23a702-4178-49d8-a1db-7014d94a33a1",
   "metadata": {},
   "outputs": [],
   "source": [
    "kerala = ['Eloor','Ernakulam','Kollam','Thiruvananthapuram','Thrissur','Kochi']\n",
    "\n",
    "ko_ko = df[df['City'].isin(kerala)]\n",
    "\n",
    "ko_ko = ko_ko[['City','Air Quality','Index Value','Date']]\n",
    "ko_ko.info()"
   ]
  },
  {
   "cell_type": "code",
   "execution_count": null,
   "id": "95656e5c-b26c-4c85-a31e-caf11b3e143d",
   "metadata": {},
   "outputs": [],
   "source": [
    "ko_ko_piv = ko_ko.pivot_table(values = 'Index Value',index = ['Date'], columns = 'City')\n",
    "\n",
    "ko_ko_piv.head()"
   ]
  },
  {
   "cell_type": "code",
   "execution_count": null,
   "id": "940e9d71-9dda-4c74-8a7b-98f49b0e66c3",
   "metadata": {},
   "outputs": [],
   "source": [
    "ko_ko_piv.fillna(0, inplace=True)\n",
    "ko_ko_piv.sort_values(list(ko_ko_piv.columns),inplace=True)\n",
    "ko_ko_piv = ko_ko_piv.sort_index()\n",
    "\n",
    "ko_ko_piv.head()"
   ]
  },
  {
   "cell_type": "code",
   "execution_count": null,
   "id": "7807f5fa-789d-4984-ac24-6fa3420dc23e",
   "metadata": {},
   "outputs": [],
   "source": [
    "ko_ko_piv.iloc[:, 0:-1] = ko_ko_piv.iloc[:, 0:-1].cumsum()\n",
    "\n",
    "ko_ko_piv.head()"
   ]
  },
  {
   "cell_type": "code",
   "execution_count": null,
   "id": "3de8ad17-4367-4db4-81c3-f6843393abd9",
   "metadata": {},
   "outputs": [],
   "source": [
    "bcr.bar_chart_race(df = ko_ko_piv, \n",
    "                   n_bars = 6, \n",
    "                   sort='desc',\n",
    "                   title='Air Quality Index of Cities of Kerala',\n",
    "                   filename = 'kl_aqi.mp4')"
   ]
  }
 ],
 "metadata": {
  "kernelspec": {
   "display_name": "Python 3 (ipykernel)",
   "language": "python",
   "name": "python3"
  },
  "language_info": {
   "codemirror_mode": {
    "name": "ipython",
    "version": 3
   },
   "file_extension": ".py",
   "mimetype": "text/x-python",
   "name": "python",
   "nbconvert_exporter": "python",
   "pygments_lexer": "ipython3",
   "version": "3.8.13"
  }
 },
 "nbformat": 4,
 "nbformat_minor": 5
}
