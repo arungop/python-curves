{
 "cells": [
  {
   "cell_type": "code",
   "execution_count": 11,
   "metadata": {},
   "outputs": [],
   "source": [
    "import camelot as camelot\n",
    "import pandas as pd\n",
    "import matplotlib.pyplot as plt"
   ]
  },
  {
   "cell_type": "code",
   "execution_count": 89,
   "metadata": {},
   "outputs": [],
   "source": [
    "# Extract tables \n",
    "\n",
    "file = \"https://cpcb.nic.in//upload/Downloads/AQI_Bulletin_20220307.pdf\"\n",
    "tables = camelot.read_pdf(file, pages='all', strip_text='\\n',table_area=['34.08432870967742, 272.87021168757127, 575.8331308064517, 684.6954388255416'],flag_size=True)"
   ]
  },
  {
   "cell_type": "code",
   "execution_count": 90,
   "metadata": {},
   "outputs": [
    {
     "data": {
      "text/html": [
       "<div>\n",
       "<style scoped>\n",
       "    .dataframe tbody tr th:only-of-type {\n",
       "        vertical-align: middle;\n",
       "    }\n",
       "\n",
       "    .dataframe tbody tr th {\n",
       "        vertical-align: top;\n",
       "    }\n",
       "\n",
       "    .dataframe thead th {\n",
       "        text-align: right;\n",
       "    }\n",
       "</style>\n",
       "<table border=\"1\" class=\"dataframe\">\n",
       "  <thead>\n",
       "    <tr style=\"text-align: right;\">\n",
       "      <th></th>\n",
       "      <th>0</th>\n",
       "      <th>1</th>\n",
       "      <th>2</th>\n",
       "      <th>3</th>\n",
       "      <th>4</th>\n",
       "      <th>5</th>\n",
       "    </tr>\n",
       "  </thead>\n",
       "  <tbody>\n",
       "    <tr>\n",
       "      <th>0</th>\n",
       "      <td>S.No</td>\n",
       "      <td>City</td>\n",
       "      <td>Air Quality</td>\n",
       "      <td>Index Value</td>\n",
       "      <td>Prominent Pollutant</td>\n",
       "      <td>Based on Numberof MonitoringStations</td>\n",
       "    </tr>\n",
       "    <tr>\n",
       "      <th>1</th>\n",
       "      <td>1</td>\n",
       "      <td>Agartala</td>\n",
       "      <td>Poor</td>\n",
       "      <td>225</td>\n",
       "      <td>PM2.5</td>\n",
       "      <td>1</td>\n",
       "    </tr>\n",
       "    <tr>\n",
       "      <th>2</th>\n",
       "      <td>2</td>\n",
       "      <td>Agra</td>\n",
       "      <td>Moderate</td>\n",
       "      <td>140</td>\n",
       "      <td>PM, O, PM1032.5</td>\n",
       "      <td>6</td>\n",
       "    </tr>\n",
       "    <tr>\n",
       "      <th>3</th>\n",
       "      <td>3</td>\n",
       "      <td>Ahmedabad</td>\n",
       "      <td>Poor</td>\n",
       "      <td>239</td>\n",
       "      <td>PM2.5</td>\n",
       "      <td>8</td>\n",
       "    </tr>\n",
       "    <tr>\n",
       "      <th>4</th>\n",
       "      <td>4</td>\n",
       "      <td>Aizawl</td>\n",
       "      <td>Satisfactory</td>\n",
       "      <td>70</td>\n",
       "      <td>PM10</td>\n",
       "      <td>1</td>\n",
       "    </tr>\n",
       "    <tr>\n",
       "      <th>5</th>\n",
       "      <td>5</td>\n",
       "      <td>Ajmer</td>\n",
       "      <td>Satisfactory</td>\n",
       "      <td>91</td>\n",
       "      <td>PM10</td>\n",
       "      <td>1</td>\n",
       "    </tr>\n",
       "    <tr>\n",
       "      <th>6</th>\n",
       "      <td>6</td>\n",
       "      <td>Alwar</td>\n",
       "      <td>Satisfactory</td>\n",
       "      <td>83</td>\n",
       "      <td>PM10</td>\n",
       "      <td>1</td>\n",
       "    </tr>\n",
       "    <tr>\n",
       "      <th>7</th>\n",
       "      <td>7</td>\n",
       "      <td>Amaravati</td>\n",
       "      <td>Satisfactory</td>\n",
       "      <td>56</td>\n",
       "      <td>PM10</td>\n",
       "      <td>1</td>\n",
       "    </tr>\n",
       "    <tr>\n",
       "      <th>8</th>\n",
       "      <td>8</td>\n",
       "      <td>Amritsar</td>\n",
       "      <td>Satisfactory</td>\n",
       "      <td>77</td>\n",
       "      <td>PM10</td>\n",
       "      <td>1</td>\n",
       "    </tr>\n",
       "    <tr>\n",
       "      <th>9</th>\n",
       "      <td>9</td>\n",
       "      <td>Ankleshwar</td>\n",
       "      <td>Moderate</td>\n",
       "      <td>196</td>\n",
       "      <td>PM2.5</td>\n",
       "      <td>1</td>\n",
       "    </tr>\n",
       "    <tr>\n",
       "      <th>10</th>\n",
       "      <td>10</td>\n",
       "      <td>Araria</td>\n",
       "      <td>Very Poor</td>\n",
       "      <td>337</td>\n",
       "      <td>O3</td>\n",
       "      <td>1</td>\n",
       "    </tr>\n",
       "    <tr>\n",
       "      <th>11</th>\n",
       "      <td>11</td>\n",
       "      <td>Arrah</td>\n",
       "      <td>Moderate</td>\n",
       "      <td>186</td>\n",
       "      <td>PM10</td>\n",
       "      <td>1</td>\n",
       "    </tr>\n",
       "    <tr>\n",
       "      <th>12</th>\n",
       "      <td>12</td>\n",
       "      <td>Asansol</td>\n",
       "      <td>Moderate</td>\n",
       "      <td>135</td>\n",
       "      <td>PM2.5</td>\n",
       "      <td>1</td>\n",
       "    </tr>\n",
       "  </tbody>\n",
       "</table>\n",
       "</div>"
      ],
      "text/plain": [
       "       0           1             2            3                    4  \\\n",
       "0   S.No        City   Air Quality  Index Value  Prominent Pollutant   \n",
       "1      1    Agartala          Poor          225                PM2.5   \n",
       "2      2        Agra      Moderate          140      PM, O, PM1032.5   \n",
       "3      3   Ahmedabad          Poor          239                PM2.5   \n",
       "4      4      Aizawl  Satisfactory           70                 PM10   \n",
       "5      5       Ajmer  Satisfactory           91                 PM10   \n",
       "6      6       Alwar  Satisfactory           83                 PM10   \n",
       "7      7   Amaravati  Satisfactory           56                 PM10   \n",
       "8      8    Amritsar  Satisfactory           77                 PM10   \n",
       "9      9  Ankleshwar      Moderate          196                PM2.5   \n",
       "10    10      Araria     Very Poor          337                   O3   \n",
       "11    11       Arrah      Moderate          186                 PM10   \n",
       "12    12     Asansol      Moderate          135                PM2.5   \n",
       "\n",
       "                                       5  \n",
       "0   Based on Numberof MonitoringStations  \n",
       "1                                      1  \n",
       "2                                      6  \n",
       "3                                      8  \n",
       "4                                      1  \n",
       "5                                      1  \n",
       "6                                      1  \n",
       "7                                      1  \n",
       "8                                      1  \n",
       "9                                      1  \n",
       "10                                     1  \n",
       "11                                     1  \n",
       "12                                     1  "
      ]
     },
     "execution_count": 90,
     "metadata": {},
     "output_type": "execute_result"
    }
   ],
   "source": [
    "# First table to dataframe\n",
    "tables[0]\n",
    "\n",
    "first_tab = tables[0]\n",
    "\n",
    "first_tab.df"
   ]
  },
  {
   "cell_type": "code",
   "execution_count": 102,
   "metadata": {},
   "outputs": [
    {
     "name": "stdout",
     "output_type": "stream",
     "text": [
      "              0                                                  1\n",
      "0          Good                                     Minimal Impact\n",
      "1  Satisfactory     Minor breathing discomfort to sensitive people\n",
      "2      Moderate  Breathing discomfort to the people with lungs,...\n",
      "3          Poor  Breathing discomfort to most people on prolong...\n",
      "4     Very Poor          Respiratory illness on prolonged exposure\n",
      "5        Severe  Affects healthy people and seriously impacts t...\n"
     ]
    }
   ],
   "source": [
    "# A unsuccessful attempt to concate all tables\n",
    "# Instead of 12 tables we get 24 tables.\n",
    "for table in tables:\n",
    "    tabs = table.df\n",
    "\n",
    "\n",
    "chunks = pd.DataFrame(tabs)\n",
    "df2 = pd.concat([chunks], ignore_index=True)\n",
    "\n",
    "print(df2)"
   ]
  },
  {
   "cell_type": "code",
   "execution_count": 70,
   "metadata": {},
   "outputs": [
    {
     "name": "stderr",
     "output_type": "stream",
     "text": [
      "/tmp/ipykernel_11851/2032299179.py:2: UserWarning: Matplotlib is currently using module://matplotlib_inline.backend_inline, which is a non-GUI backend, so cannot show the figure.\n",
      "  camelot.plot(tables[0], kind='text').show()\n"
     ]
    },
    {
     "data": {
      "image/png": "[encoded data removed]",
      "text/plain": [
       "<Figure size 432x288 with 1 Axes>"
      ]
     },
     "metadata": {
      "needs_background": "light"
     },
     "output_type": "display_data"
    }
   ],
   "source": [
    "# Visualise plots\n",
    "camelot.plot(tables[0], kind='text').show()"
   ]
  },
  {
   "cell_type": "code",
   "execution_count": 78,
   "metadata": {},
   "outputs": [
    {
     "data": {
      "text/plain": [
       "(34.08432870967742, 272.87021168757127, 575.8331308064517, 684.6954388255416)"
      ]
     },
     "execution_count": 78,
     "metadata": {},
     "output_type": "execute_result"
    }
   ],
   "source": [
    "# Find bbox \n",
    "tables[0]._bbox\n",
    "\n"
   ]
  },
  {
   "cell_type": "code",
   "execution_count": 101,
   "metadata": {},
   "outputs": [
    {
     "name": "stdout",
     "output_type": "stream",
     "text": [
      "       0             1             2            3                    4  \\\n",
      "0   S.No          City   Air Quality  Index Value  Prominent Pollutant   \n",
      "1      1      Agartala          Poor          225                PM2.5   \n",
      "2      2          Agra      Moderate          140      PM, O, PM1032.5   \n",
      "3      3     Ahmedabad          Poor          239                PM2.5   \n",
      "4      4        Aizawl  Satisfactory           70                 PM10   \n",
      "5      5         Ajmer  Satisfactory           91                 PM10   \n",
      "6      6         Alwar  Satisfactory           83                 PM10   \n",
      "7      7     Amaravati  Satisfactory           56                 PM10   \n",
      "8      8      Amritsar  Satisfactory           77                 PM10   \n",
      "9      9    Ankleshwar      Moderate          196                PM2.5   \n",
      "10    10        Araria     Very Poor          337                   O3   \n",
      "11    11         Arrah      Moderate          186                 PM10   \n",
      "12    12       Asansol      Moderate          135                PM2.5   \n",
      "0   S.No          City   Air Quality  Index Value  Prominent Pollutant   \n",
      "1     13    Aurangabad      Moderate          102                 PM10   \n",
      "2     14      Bagalkot          Good           50                PM2.5   \n",
      "3     15    Ballabgarh      Moderate          101                 PM10   \n",
      "4     16      Bathinda      Moderate          108                 PM10   \n",
      "5     17     Bengaluru  Satisfactory           69                 PM10   \n",
      "6     18     Bhagalpur      Moderate          185                PM2.5   \n",
      "7     19        Bhilai  Satisfactory           69                 PM10   \n",
      "8     20       Bhiwadi          Poor          207                PM2.5   \n",
      "9     21       Bhiwani          Poor          275                PM2.5   \n",
      "10    22        Bhopal      Moderate          156                   O3   \n",
      "11    23         Bidar  Satisfactory           76                 PM10   \n",
      "12    24  Bihar Sharif          Poor          300                PM2.5   \n",
      "\n",
      "                                       5  \n",
      "0   Based on Numberof MonitoringStations  \n",
      "1                                      1  \n",
      "2                                      6  \n",
      "3                                      8  \n",
      "4                                      1  \n",
      "5                                      1  \n",
      "6                                      1  \n",
      "7                                      1  \n",
      "8                                      1  \n",
      "9                                      1  \n",
      "10                                     1  \n",
      "11                                     1  \n",
      "12                                     1  \n",
      "0   Based on Numberof MonitoringStations  \n",
      "1                                      1  \n",
      "2                                      1  \n",
      "3                                      1  \n",
      "4                                      1  \n",
      "5                                      8  \n",
      "6                                      1  \n",
      "7                                      1  \n",
      "8                                      1  \n",
      "9                                      1  \n",
      "10                                     1  \n",
      "11                                     1  \n",
      "12                                     1  \n"
     ]
    }
   ],
   "source": [
    "# Concate table 0 & 2\n",
    "\n",
    "sample = [tables[0].df,tables[2].df]\n",
    "\n",
    "res = pd.concat(sample)\n",
    "\n",
    "print(res)"
   ]
  }
 ],
 "metadata": {
  "interpreter": {
   "hash": "916dbcbb3f70747c44a77c7bcd40155683ae19c65e1c03b4aa3499c5328201f1"
  },
  "kernelspec": {
   "display_name": "Python 3.8.10 64-bit",
   "language": "python",
   "name": "python3"
  },
  "language_info": {
   "codemirror_mode": {
    "name": "ipython",
    "version": 3
   },
   "file_extension": ".py",
   "mimetype": "text/x-python",
   "name": "python",
   "nbconvert_exporter": "python",
   "pygments_lexer": "ipython3",
   "version": "3.8.10"
  },
  "orig_nbformat": 4
 },
 "nbformat": 4,
 "nbformat_minor": 2
}
